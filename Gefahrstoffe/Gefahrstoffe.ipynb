{
 "cells": [
  {
   "cell_type": "markdown",
   "id": "1bba7faa",
   "metadata": {},
   "source": [
    "## Gefahrstoffliste 2018\n",
    "<font font-family=\"Times New Roman\" size='2'>"
   ]
  }
 ],
 "metadata": {
  "kernelspec": {
   "display_name": "venv",
   "language": "python",
   "name": "venv"
  },
  "language_info": {
   "codemirror_mode": {
    "name": "ipython",
    "version": 3
   },
   "file_extension": ".py",
   "mimetype": "text/x-python",
   "name": "python",
   "nbconvert_exporter": "python",
   "pygments_lexer": "ipython3",
   "version": "3.9.6"
  }
 },
 "nbformat": 4,
 "nbformat_minor": 5
}
